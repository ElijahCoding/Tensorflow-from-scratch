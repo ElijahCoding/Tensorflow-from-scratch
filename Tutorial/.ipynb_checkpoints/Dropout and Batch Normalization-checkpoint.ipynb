{
 "cells": [
  {
   "cell_type": "code",
   "execution_count": 1,
   "metadata": {},
   "outputs": [],
   "source": [
    "import tensorflow as tf\n",
    "from tensorflow import keras\n",
    "from tensorflow.keras import Sequential\n",
    "from tensorflow.keras.layers import Dense, Flatten, Conv2D, MaxPool2D, ZeroPadding2D, Dropout, BatchNormalization\n",
    "from tensorflow.keras.preprocessing.image import ImageDataGenerator\n",
    "from tensorflow.keras.optimizers import SGD"
   ]
  },
  {
   "cell_type": "code",
   "execution_count": 2,
   "metadata": {},
   "outputs": [
    {
     "name": "stdout",
     "output_type": "stream",
     "text": [
      "2.0.0\n"
     ]
    }
   ],
   "source": [
    "print(tf.__version__)"
   ]
  },
  {
   "cell_type": "code",
   "execution_count": 3,
   "metadata": {},
   "outputs": [],
   "source": [
    "import numpy as np\n",
    "import matplotlib.pyplot as plt"
   ]
  },
  {
   "cell_type": "code",
   "execution_count": 4,
   "metadata": {},
   "outputs": [],
   "source": [
    "test_data_dir = './datasets/dog-cat/data/test'\n",
    "train_data_dir = './datasets/dog-cat/data/train'"
   ]
  },
  {
   "cell_type": "code",
   "execution_count": 5,
   "metadata": {},
   "outputs": [],
   "source": [
    "img_width = 32\n",
    "img_height = 32\n",
    "batch_size = 20"
   ]
  },
  {
   "cell_type": "code",
   "execution_count": 6,
   "metadata": {},
   "outputs": [],
   "source": [
    "datagen = ImageDataGenerator(rescale=1./255)"
   ]
  },
  {
   "cell_type": "code",
   "execution_count": 7,
   "metadata": {},
   "outputs": [
    {
     "name": "stdout",
     "output_type": "stream",
     "text": [
      "Found 20000 images belonging to 2 classes.\n"
     ]
    }
   ],
   "source": [
    "train_generator = datagen.flow_from_directory(\n",
    "    directory = train_data_dir,\n",
    "    target_size=(img_width, img_height),\n",
    "    batch_size=batch_size,\n",
    "    class_mode='binary',\n",
    "    classes=['dogs', 'cats']\n",
    ")"
   ]
  },
  {
   "cell_type": "code",
   "execution_count": 8,
   "metadata": {},
   "outputs": [
    {
     "data": {
      "text/plain": [
       "array([0, 0, 0, ..., 1, 1, 1], dtype=int32)"
      ]
     },
     "execution_count": 8,
     "metadata": {},
     "output_type": "execute_result"
    }
   ],
   "source": [
    "train_generator.classes # output"
   ]
  },
  {
   "cell_type": "code",
   "execution_count": 9,
   "metadata": {},
   "outputs": [
    {
     "name": "stdout",
     "output_type": "stream",
     "text": [
      "Found 5000 images belonging to 2 classes.\n"
     ]
    }
   ],
   "source": [
    "validation_generator = datagen.flow_from_directory(\n",
    "    directory = test_data_dir,\n",
    "    target_size = (32, 32),\n",
    "    classes=['dogs', 'cats'],\n",
    "    batch_size=batch_size,\n",
    "    class_mode='binary'\n",
    ")"
   ]
  },
  {
   "cell_type": "markdown",
   "metadata": {},
   "source": [
    "### Building CNN Base Model"
   ]
  },
  {
   "cell_type": "code",
   "execution_count": 10,
   "metadata": {},
   "outputs": [],
   "source": [
    "model = Sequential()\n",
    "model.add(Conv2D(\n",
    "    filters=64,\n",
    "    kernel_size=(3,3),\n",
    "    activation='relu',\n",
    "    padding='same',\n",
    "    kernel_initializer='he_uniform',\n",
    "    input_shape=(img_width, img_height, 3) # colorly -> 3, black-white -> 1\n",
    "))\n",
    "model.add(MaxPool2D(2, 2))\n",
    "model.add(Flatten())\n",
    "model.add(Dense(128, activation='relu', kernel_initializer='he_uniform'))\n",
    "model.add(Dense(1, activation='sigmoid'))"
   ]
  },
  {
   "cell_type": "code",
   "execution_count": 11,
   "metadata": {},
   "outputs": [],
   "source": [
    "opt = SGD(learning_rate=0.01, momentum=0.9)\n",
    "model.compile(optimizer=opt, loss='binary_crossentropy', metrics=['accuracy'])"
   ]
  },
  {
   "cell_type": "code",
   "execution_count": 12,
   "metadata": {},
   "outputs": [
    {
     "name": "stdout",
     "output_type": "stream",
     "text": [
      "Epoch 1/5\n",
      "1000/1000 [==============================] - 113s 113ms/step - loss: 0.6951 - accuracy: 0.5044 - val_loss: 0.6931 - val_accuracy: 0.5014\n",
      "Epoch 2/5\n",
      "1000/1000 [==============================] - 94s 94ms/step - loss: 0.6934 - accuracy: 0.5006 - val_loss: 0.6931 - val_accuracy: 0.5010\n",
      "Epoch 3/5\n",
      "1000/1000 [==============================] - 89s 89ms/step - loss: 0.6936 - accuracy: 0.4969 - val_loss: 0.6932 - val_accuracy: 0.5006\n",
      "Epoch 4/5\n",
      "1000/1000 [==============================] - 90s 90ms/step - loss: 0.6933 - accuracy: 0.5014 - val_loss: 0.6933 - val_accuracy: 0.5000\n",
      "Epoch 5/5\n",
      "1000/1000 [==============================] - 88s 88ms/step - loss: 0.6926 - accuracy: 0.5046 - val_loss: 0.6922 - val_accuracy: 0.5094\n"
     ]
    }
   ],
   "source": [
    "history = model.fit_generator(\n",
    "    generator=train_generator,\n",
    "    steps_per_epoch=len(train_generator),\n",
    "    epochs=5,\n",
    "    validation_data=validation_generator,\n",
    "    validation_steps=len(validation_generator),\n",
    "    verbose = 1\n",
    ")"
   ]
  },
  {
   "cell_type": "code",
   "execution_count": 13,
   "metadata": {},
   "outputs": [
    {
     "data": {
      "text/plain": [
       "{'loss': [0.6950913588404656,\n",
       "  0.6933626611828804,\n",
       "  0.6936022942066192,\n",
       "  0.6933395081162452,\n",
       "  0.6925811948776245],\n",
       " 'accuracy': [0.5044, 0.50065, 0.49685, 0.5014, 0.5046],\n",
       " 'val_loss': [0.6931121025085449,\n",
       "  0.6931389677524566,\n",
       "  0.6931531848907471,\n",
       "  0.693349264383316,\n",
       "  0.6921502876281739],\n",
       " 'val_accuracy': [0.5014, 0.501, 0.5006, 0.5, 0.5094]}"
      ]
     },
     "execution_count": 13,
     "metadata": {},
     "output_type": "execute_result"
    }
   ],
   "source": [
    "history.history"
   ]
  },
  {
   "cell_type": "code",
   "execution_count": 14,
   "metadata": {},
   "outputs": [],
   "source": [
    "def plot_learningCurve(history):\n",
    "    # Plot training & validation accuracy values\n",
    "    epoch_range = range(1, 6)\n",
    "    plt.plot(epoch_range, history.history['accuracy'])\n",
    "    plt.plot(epoch_range, history.history['val_accuracy'])\n",
    "    plt.title('Model accuracy')\n",
    "    plt.ylabel('Accuracy')\n",
    "    plt.xlabel('Epoch')\n",
    "    plt.legend(['Train', 'Val'], loc='upper left')\n",
    "    plt.show()\n",
    "    \n",
    "    # Plot training & validation loss values\n",
    "    plt.plot(epoch_range, history.history['loss'])\n",
    "    plt.plot(epoch_range, history.history['val_loss'])\n",
    "    plt.title('Model loss')\n",
    "    plt.ylabel('Loss')\n",
    "    plt.xlabel('Epoch')\n",
    "    plt.legend(['Train', 'Val'], loc='upper left')\n",
    "    plt.show()"
   ]
  },
  {
   "cell_type": "code",
   "execution_count": 15,
   "metadata": {},
   "outputs": [
    {
     "data": {
      "image/png": "[encoded data removed]",
      "text/plain": [
       "<Figure size 432x288 with 1 Axes>"
      ]
     },
     "metadata": {
      "needs_background": "light"
     },
     "output_type": "display_data"
    },
    {
     "data": {
      "image/png": "[encoded data removed]",
      "text/plain": [
       "<Figure size 432x288 with 1 Axes>"
      ]
     },
     "metadata": {
      "needs_background": "light"
     },
     "output_type": "display_data"
    }
   ],
   "source": [
    "plot_learningCurve(history)"
   ]
  },
  {
   "cell_type": "markdown",
   "metadata": {},
   "source": [
    "## Impliment First 3 Blocks of VGG16 Model"
   ]
  },
  {
   "cell_type": "code",
   "execution_count": 16,
   "metadata": {},
   "outputs": [],
   "source": [
    "model = Sequential()\n",
    "\n",
    "model.add(Conv2D(\n",
    "    filters=64,\n",
    "    kernel_size=(3, 3),\n",
    "    activation='relu',\n",
    "    kernel_initializer='he_uniform',\n",
    "    padding='same',\n",
    "    input_shape=(img_width, img_height, 3)\n",
    "))\n",
    "model.add(MaxPool2D(2, 2))\n",
    "\n",
    "model = Sequential()\n",
    "model.add(Conv2D(\n",
    "    filters=128,\n",
    "    kernel_size=(3, 3),\n",
    "    activation='relu',\n",
    "    kernel_initializer='he_uniform',\n",
    "    padding='same'\n",
    "))\n",
    "model.add(MaxPool2D(2, 2))\n",
    "\n",
    "model = Sequential()\n",
    "model.add(Conv2D(\n",
    "    filters=256,\n",
    "    kernel_size=(3, 3),\n",
    "    activation='relu',\n",
    "    kernel_initializer='he_uniform',\n",
    "    padding='same'\n",
    "))\n",
    "\n",
    "model.add(Flatten())\n",
    "model.add(Dense(128, activation='relu', kernel_initializer='he_uniform'))\n",
    "\n",
    "model.add(Dense(1, activation='sigmoid'))"
   ]
  },
  {
   "cell_type": "code",
   "execution_count": 17,
   "metadata": {},
   "outputs": [],
   "source": [
    "opt = SGD(learning_rate=0.01, momentum=0.9)\n",
    "model.compile(optimizer=opt, loss='binary_crossentropy', metrics=['accuracy'])"
   ]
  },
  {
   "cell_type": "code",
   "execution_count": 18,
   "metadata": {},
   "outputs": [
    {
     "name": "stdout",
     "output_type": "stream",
     "text": [
      "Epoch 1/5\n",
      "1000/1000 [==============================] - 266s 266ms/step - loss: 7.6604 - accuracy: 0.5013 - val_loss: 7.6666 - val_accuracy: 0.5000\n",
      "Epoch 2/5\n",
      "1000/1000 [==============================] - 270s 270ms/step - loss: 7.6666 - accuracy: 0.5001 - val_loss: 7.6666 - val_accuracy: 0.5000\n",
      "Epoch 3/5\n",
      "1000/1000 [==============================] - 280s 280ms/step - loss: 7.6666 - accuracy: 0.5056 - val_loss: 7.6666 - val_accuracy: 0.5000\n",
      "Epoch 4/5\n",
      "1000/1000 [==============================] - 254s 254ms/step - loss: 7.6666 - accuracy: 0.5005 - val_loss: 7.6666 - val_accuracy: 0.5000\n",
      "Epoch 5/5\n",
      "1000/1000 [==============================] - 272s 272ms/step - loss: 7.6666 - accuracy: 0.4991 - val_loss: 7.6666 - val_accuracy: 0.5000\n"
     ]
    }
   ],
   "source": [
    "history = model.fit_generator(\n",
    "    generator=train_generator,\n",
    "    steps_per_epoch=len(train_generator),\n",
    "    epochs=5,\n",
    "    validation_data=validation_generator,\n",
    "    validation_steps=len(validation_generator),\n",
    "    verbose=1\n",
    ")"
   ]
  },
  {
   "cell_type": "markdown",
   "metadata": {},
   "source": [
    "## Batch Normalization and Dropout"
   ]
  },
  {
   "cell_type": "code",
   "execution_count": 20,
   "metadata": {},
   "outputs": [],
   "source": [
    "model = Sequential()\n",
    "model.add(Conv2D(\n",
    "    filters=64,\n",
    "    kernel_size=(3,3),\n",
    "    activation='relu',\n",
    "    padding='same',\n",
    "    kernel_initializer='he_uniform',\n",
    "    input_shape=(img_width, img_height, 3)\n",
    "))\n",
    "model.add(BatchNormalization())\n",
    "model.add(MaxPool2D(2, 2))\n",
    "model.add(Dropout(0.2))\n",
    "\n",
    "\n",
    "model = Sequential()\n",
    "model.add(Conv2D(\n",
    "    filters=128,\n",
    "    kernel_size=(3,3),\n",
    "    activation='relu',\n",
    "    padding='same',\n",
    "    kernel_initializer='he_uniform'\n",
    "))\n",
    "model.add(BatchNormalization())\n",
    "model.add(MaxPool2D(2, 2))\n",
    "model.add(Dropout(0.3))\n",
    "\n",
    "model = Sequential()\n",
    "model.add(Conv2D(\n",
    "    filters=256,\n",
    "    kernel_size=(3,3),\n",
    "    activation='relu',\n",
    "    padding='same',\n",
    "    kernel_initializer='he_uniform'\n",
    "))\n",
    "model.add(BatchNormalization())\n",
    "model.add(MaxPool2D(2, 2))\n",
    "model.add(Dropout(0.5))\n",
    "\n",
    "model.add(Flatten())\n",
    "model.add(Dense(128, activation='relu', kernel_initializer='he_uniform'))\n",
    "model.add(BatchNormalization())\n",
    "model.add(Dropout(0.5))\n",
    "\n",
    "model.add(Dense(1, activation='sigmoid'))"
   ]
  },
  {
   "cell_type": "code",
   "execution_count": 21,
   "metadata": {},
   "outputs": [],
   "source": [
    "opt = SGD(learning_rate=0.01, momentum=0.9)\n",
    "model.compile(optimizer=opt, loss='binary_crossentropy', metrics=['accuracy'])"
   ]
  },
  {
   "cell_type": "code",
   "execution_count": 22,
   "metadata": {},
   "outputs": [
    {
     "name": "stdout",
     "output_type": "stream",
     "text": [
      "Epoch 1/10\n",
      "1000/1000 [==============================] - 242s 242ms/step - loss: 0.6675 - accuracy: 0.6052 - val_loss: 0.5933 - val_accuracy: 0.6828\n",
      "Epoch 2/10\n",
      "1000/1000 [==============================] - 225s 225ms/step - loss: 0.5839 - accuracy: 0.6897 - val_loss: 0.5786 - val_accuracy: 0.7086\n",
      "Epoch 3/10\n",
      "1000/1000 [==============================] - 223s 223ms/step - loss: 0.5464 - accuracy: 0.7213 - val_loss: 0.5141 - val_accuracy: 0.7494\n",
      "Epoch 4/10\n",
      "1000/1000 [==============================] - 216s 216ms/step - loss: 0.5234 - accuracy: 0.7437 - val_loss: 0.5103 - val_accuracy: 0.7598\n",
      "Epoch 5/10\n",
      "1000/1000 [==============================] - 216s 216ms/step - loss: 0.5069 - accuracy: 0.7532 - val_loss: 0.5271 - val_accuracy: 0.7410\n",
      "Epoch 6/10\n",
      "1000/1000 [==============================] - 219s 219ms/step - loss: 0.4935 - accuracy: 0.7648 - val_loss: 0.5355 - val_accuracy: 0.7458\n",
      "Epoch 7/10\n",
      "1000/1000 [==============================] - 217s 217ms/step - loss: 0.4791 - accuracy: 0.7774 - val_loss: 0.6188 - val_accuracy: 0.6922\n",
      "Epoch 8/10\n",
      "1000/1000 [==============================] - 219s 219ms/step - loss: 0.4693 - accuracy: 0.7753 - val_loss: 0.5083 - val_accuracy: 0.7546\n",
      "Epoch 9/10\n",
      "1000/1000 [==============================] - 213s 213ms/step - loss: 0.4591 - accuracy: 0.7913 - val_loss: 0.5115 - val_accuracy: 0.7598\n",
      "Epoch 10/10\n",
      "1000/1000 [==============================] - 225s 225ms/step - loss: 0.4466 - accuracy: 0.7960 - val_loss: 0.5463 - val_accuracy: 0.7280\n"
     ]
    }
   ],
   "source": [
    "history = model.fit_generator(generator=train_generator, steps_per_epoch=len(train_generator), epochs = 10, validation_data=validation_generator, validation_steps=len(validation_generator), verbose = 1)"
   ]
  },
  {
   "cell_type": "code",
   "execution_count": 23,
   "metadata": {},
   "outputs": [],
   "source": [
    "def plot_learningCurve(history, epoch):\n",
    "  # Plot training & validation accuracy values\n",
    "  epoch_range = range(1, epoch+1)\n",
    "  plt.plot(epoch_range, history.history['accuracy'])\n",
    "  plt.plot(epoch_range, history.history['val_accuracy'])\n",
    "  plt.title('Model accuracy')\n",
    "  plt.ylabel('Accuracy')\n",
    "  plt.xlabel('Epoch')\n",
    "  plt.legend(['Train', 'Val'], loc='upper left')\n",
    "  plt.show()\n",
    "\n",
    "  # Plot training & validation loss values\n",
    "  plt.plot(epoch_range, history.history['loss'])\n",
    "  plt.plot(epoch_range, history.history['val_loss'])\n",
    "  plt.title('Model loss')\n",
    "  plt.ylabel('Loss')\n",
    "  plt.xlabel('Epoch')\n",
    "  plt.legend(['Train', 'Val'], loc='upper left')\n",
    "  plt.show()"
   ]
  },
  {
   "cell_type": "code",
   "execution_count": 24,
   "metadata": {},
   "outputs": [
    {
     "data": {
      "image/png": "[encoded data removed]",
      "text/plain": [
       "<Figure size 432x288 with 1 Axes>"
      ]
     },
     "metadata": {
      "needs_background": "light"
     },
     "output_type": "display_data"
    },
    {
     "data": {
      "image/png": "[encoded data removed]",
      "text/plain": [
       "<Figure size 432x288 with 1 Axes>"
      ]
     },
     "metadata": {
      "needs_background": "light"
     },
     "output_type": "display_data"
    }
   ],
   "source": [
    "plot_learningCurve(history, 10)"
   ]
  },
  {
   "cell_type": "code",
   "execution_count": null,
   "metadata": {},
   "outputs": [],
   "source": []
  }
 ],
 "metadata": {
  "kernelspec": {
   "display_name": "Python 3",
   "language": "python",
   "name": "python3"
  },
  "language_info": {
   "codemirror_mode": {
    "name": "ipython",
    "version": 3
   },
   "file_extension": ".py",
   "mimetype": "text/x-python",
   "name": "python",
   "nbconvert_exporter": "python",
   "pygments_lexer": "ipython3",
   "version": "3.7.4"
  }
 },
 "nbformat": 4,
 "nbformat_minor": 2
}
